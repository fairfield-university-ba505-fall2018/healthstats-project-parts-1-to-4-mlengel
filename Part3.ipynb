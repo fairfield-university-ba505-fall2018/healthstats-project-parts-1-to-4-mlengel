{
 "cells": [
  {
   "cell_type": "markdown",
   "metadata": {},
   "source": [
    "# Health Stats Part 3: Numpy Structured Arrays"
   ]
  },
  {
   "cell_type": "markdown",
   "metadata": {},
   "source": [
    "<!--- Write an explanation of the Waist To Hips Ratio statistic used by health professionals. Please include an explanation of what it is used for, exactly how it is calculated, and how to interpret the results. Note: Formmatting matters. Make this as professional as you can using Markdown.  --->\n",
    "Waist to Hips Ratio is a measure of the waist divided by a measure of the hips. This can be in either inches, cm, or any other unit of measure as long as the two measures share consistent units. Healthy Waist To Hips Ratio (WTHR) depends on your sex. Different levels of obese, overweight, normal weight, and underweight are calculated by different medical authorities such as The National Institute of Diabetes, Digestive and Kidney Diseases among others. For men a value above 1.0 (meaning your waist is larger than your hips) indicates obesity. For women, this value is listed as 0.8. "
   ]
  },
  {
   "cell_type": "markdown",
   "metadata": {},
   "source": [
    "## Source Data "
   ]
  },
  {
   "cell_type": "markdown",
   "metadata": {},
   "source": [
    "<!--- Replace the text below with a Markdown bullet list that defines the columns of the w2h_data.csv file. Be sure to indicate the data type for each column. --->\n",
    "- ID: Unique identifier of a patient\n",
    "- Waist: Waist measurement in inches\n",
    "- Hip: Hip measurement in inches\n",
    "- Gender: Male or Female"
   ]
  },
  {
   "cell_type": "markdown",
   "metadata": {},
   "source": [
    "## Data Import"
   ]
  },
  {
   "cell_type": "code",
   "execution_count": 1,
   "metadata": {},
   "outputs": [
    {
     "data": {
      "text/plain": [
       "array([( 1., 30., 32., 'M'), ( 2., 32., 37., 'M'), ( 3., 30., 36., 'M'),\n",
       "       ( 4., 33., 39., 'M'), ( 5., 29., 33., 'M'), ( 6., 32., 38., 'M'),\n",
       "       ( 7., 33., 42., 'M'), ( 8., 30., 40., 'M'), ( 9., 30., 37., 'M'),\n",
       "       (10., 32., 39., 'M'), (11., 24., 35., 'F'), (12., 25., 37., 'F'),\n",
       "       (13., 24., 37., 'F'), (14., 22., 34., 'F'), (15., 26., 38., 'F'),\n",
       "       (16., 26., 37., 'F'), (17., 25., 38., 'F'), (18., 26., 37., 'F'),\n",
       "       (19., 28., 40., 'F'), (20., 23., 35., 'F')],\n",
       "      dtype=[('ID', '<f8'), ('Waist', '<f8'), ('Hip', '<f8'), ('Gender', '<U1')])"
      ]
     },
     "execution_count": 1,
     "metadata": {},
     "output_type": "execute_result"
    }
   ],
   "source": [
    "# Goal: Extract the data from the file\n",
    "import numpy as np\n",
    "import pandas as pd\n",
    "# opens the w2h_data.csv for reading\n",
    "\n",
    "f = np.genfromtxt('w2h_data.csv',delimiter=',',dtype=[('ID', '<f8'), ('Waist', '<f8'), ('Hip', '<f8'), ('Gender', 'U1')],names=True)\n",
    "#f = open(\"w2h_data.csv\", \"r\")\n",
    "\n",
    "# loads the file into a list of strings, one string per line\n",
    "#raw_lines = list(f)\n",
    "\n",
    "# closes the file\n",
    "f"
   ]
  },
  {
   "cell_type": "markdown",
   "metadata": {},
   "source": [
    "## Calculations"
   ]
  },
  {
   "cell_type": "code",
   "execution_count": 18,
   "metadata": {},
   "outputs": [
    {
     "data": {
      "text/plain": [
       "array([( 1., 30., 32., 'M', 0.9375    , 1),\n",
       "       ( 2., 32., 37., 'M', 0.86486486, 0),\n",
       "       ( 3., 30., 36., 'M', 0.83333333, 0),\n",
       "       ( 4., 33., 39., 'M', 0.84615385, 0),\n",
       "       ( 5., 29., 33., 'M', 0.87878788, 0),\n",
       "       ( 6., 32., 38., 'M', 0.84210526, 0),\n",
       "       ( 7., 33., 42., 'M', 0.78571429, 0),\n",
       "       ( 8., 30., 40., 'M', 0.75      , 0),\n",
       "       ( 9., 30., 37., 'M', 0.81081081, 0),\n",
       "       (10., 32., 39., 'M', 0.82051282, 0),\n",
       "       (11., 24., 35., 'F', 0.68571429, 0),\n",
       "       (12., 25., 37., 'F', 0.67567568, 0),\n",
       "       (13., 24., 37., 'F', 0.64864865, 0),\n",
       "       (14., 22., 34., 'F', 0.64705882, 0),\n",
       "       (15., 26., 38., 'F', 0.68421053, 0),\n",
       "       (16., 26., 37., 'F', 0.7027027 , 0),\n",
       "       (17., 25., 38., 'F', 0.65789474, 0),\n",
       "       (18., 26., 37., 'F', 0.7027027 , 0),\n",
       "       (19., 28., 40., 'F', 0.7       , 0),\n",
       "       (20., 23., 35., 'F', 0.65714286, 0)],\n",
       "      dtype=[('ID', '<f8'), ('Waist', '<f8'), ('Hip', '<f8'), ('Gender', '<U1'), ('W2H Ratio', '<f8'), ('Shape', '<i4')])"
      ]
     },
     "execution_count": 18,
     "metadata": {},
     "output_type": "execute_result"
    }
   ],
   "source": [
    "# Goal: For each row of data calculate and store the w2h_ratio and shape.\n",
    "\n",
    "w2h_ratio = f['Waist']/f['Hip']\n",
    "shape = (((f['Gender']=='M') & (f['Waist']/f['Hip']>0.9)) | ((f['Gender']=='F') & ((f['Waist']/f['Hip'])>0.8)))\n",
    "\n",
    "\n",
    "dt = np.dtype(f.dtype.descr +[('W2H Ratio',float),('Shape',int)])\n",
    "results = np.zeros(f.shape,dtype=dt)\n",
    "\n",
    "# copy over the rows data\n",
    "for c in f.dtype.names:\n",
    "    results[c]=f[c]\n",
    "    \n",
    "# add the two new columns\n",
    "results['W2H Ratio']=w2h_ratio\n",
    "results['Shape']=shape\n",
    "results"
   ]
  },
  {
   "cell_type": "markdown",
   "metadata": {},
   "source": [
    "## Output"
   ]
  },
  {
   "cell_type": "code",
   "execution_count": 21,
   "metadata": {},
   "outputs": [
    {
     "data": {
      "text/html": [
       "<table><tr><th>ID</th><th>Waist</th><th>Hip</th><th>Gender</th><th>W2H Ratio</th><th>Shape</th></tr><tr><td>1.0</td><td>30.0</td><td>32.0</td><td>M</td><td>0.9375</td><td>1</td></tr><tr><td>2.0</td><td>32.0</td><td>37.0</td><td>M</td><td>0.8648648648648649</td><td>0</td></tr><tr><td>3.0</td><td>30.0</td><td>36.0</td><td>M</td><td>0.8333333333333334</td><td>0</td></tr><tr><td>4.0</td><td>33.0</td><td>39.0</td><td>M</td><td>0.8461538461538461</td><td>0</td></tr><tr><td>5.0</td><td>29.0</td><td>33.0</td><td>M</td><td>0.8787878787878788</td><td>0</td></tr><tr><td>6.0</td><td>32.0</td><td>38.0</td><td>M</td><td>0.8421052631578947</td><td>0</td></tr><tr><td>7.0</td><td>33.0</td><td>42.0</td><td>M</td><td>0.7857142857142857</td><td>0</td></tr><tr><td>8.0</td><td>30.0</td><td>40.0</td><td>M</td><td>0.75</td><td>0</td></tr><tr><td>9.0</td><td>30.0</td><td>37.0</td><td>M</td><td>0.8108108108108109</td><td>0</td></tr><tr><td>10.0</td><td>32.0</td><td>39.0</td><td>M</td><td>0.8205128205128205</td><td>0</td></tr><tr><td>11.0</td><td>24.0</td><td>35.0</td><td>F</td><td>0.6857142857142857</td><td>0</td></tr><tr><td>12.0</td><td>25.0</td><td>37.0</td><td>F</td><td>0.6756756756756757</td><td>0</td></tr><tr><td>13.0</td><td>24.0</td><td>37.0</td><td>F</td><td>0.6486486486486487</td><td>0</td></tr><tr><td>14.0</td><td>22.0</td><td>34.0</td><td>F</td><td>0.6470588235294118</td><td>0</td></tr><tr><td>15.0</td><td>26.0</td><td>38.0</td><td>F</td><td>0.6842105263157895</td><td>0</td></tr><tr><td>16.0</td><td>26.0</td><td>37.0</td><td>F</td><td>0.7027027027027027</td><td>0</td></tr><tr><td>17.0</td><td>25.0</td><td>38.0</td><td>F</td><td>0.6578947368421053</td><td>0</td></tr><tr><td>18.0</td><td>26.0</td><td>37.0</td><td>F</td><td>0.7027027027027027</td><td>0</td></tr><tr><td>19.0</td><td>28.0</td><td>40.0</td><td>F</td><td>0.7</td><td>0</td></tr><tr><td>20.0</td><td>23.0</td><td>35.0</td><td>F</td><td>0.6571428571428571</td><td>0</td></tr></table>"
      ],
      "text/plain": [
       "<IPython.core.display.HTML object>"
      ]
     },
     "metadata": {},
     "output_type": "display_data"
    }
   ],
   "source": [
    "# Goal: pretty print the rows as an HTML table\n",
    "\n",
    "# Note: this works, but we can do this much better with pandas\n",
    "html_table = '<table><tr><th>'\n",
    "html_table += \"</th><th>\".join(results.dtype.names)\n",
    "html_table += '</th></tr>'\n",
    "for row in results:\n",
    "    html_table += \"<tr><td>\"\n",
    "    html_table += \"</td><td>\".join(str(v) for v in row)\n",
    "    html_table += \"</td></tr>\"\n",
    "html_table += \"</table>\"\n",
    "\n",
    "from IPython.display import HTML, display\n",
    "display(HTML(html_table))\n",
    "\n",
    "# Export to \"StatsResults.csv\"\n",
    "np.savetxt(\"StatsResults.csv\",results,fmt='%s',delimiter=',',header=','.join(results.dtype.names),comments=\"\")"
   ]
  },
  {
   "cell_type": "code",
   "execution_count": null,
   "metadata": {},
   "outputs": [],
   "source": []
  }
 ],
 "metadata": {
  "kernelspec": {
   "display_name": "Python 3",
   "language": "python",
   "name": "python3"
  },
  "language_info": {
   "codemirror_mode": {
    "name": "ipython",
    "version": 3
   },
   "file_extension": ".py",
   "mimetype": "text/x-python",
   "name": "python",
   "nbconvert_exporter": "python",
   "pygments_lexer": "ipython3",
   "version": "3.6.4"
  }
 },
 "nbformat": 4,
 "nbformat_minor": 2
}
